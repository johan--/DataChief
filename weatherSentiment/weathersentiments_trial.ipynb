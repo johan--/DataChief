{
 "cells": [
  {
   "cell_type": "code",
   "execution_count": null,
   "metadata": {
    "collapsed": true
   },
   "outputs": [],
   "source": [
    "from alchemyapi import AlchemyAPI\n",
    "alchemyapi = AlchemyAPI()\n",
    "from tweepy import Stream\n",
    "from tweepy import OAuthHandler\n",
    "from tweepy import StreamListener\n",
    "import time, urllib2,json\n",
    "import pandas as pd\n",
    "\n",
    "def geobox(place):\n",
    "    geobox = []\n",
    "    geobox.append(place[1] - .5)\n",
    "    geobox.append(place[0] - .5)\n",
    "    geobox.append(place[1] + .5)\n",
    "    geobox.append(place[0] + .5)\n",
    "    return geobox\n",
    "\n",
    "def get_coordinates(file):\n",
    "    coordinates_dict_twitter = {}\n",
    "    coordinates_dict_weather = {}\n",
    "    dataframe = pd.read_csv(file)\n",
    "    for x in dataframe['city'].count:\n",
    "        temp_list = []\n",
    "        temp_list.append(dataframe['lat'][x])\n",
    "        temp_list.append(dataframe['lng'][x])\n",
    "        coordinates_dict_twitter[dataframe['city'][x]] = (geoBox(temp_list))\n",
    "        coordinates_dict_weather[dataframe['city'][x]] = temp_list\n",
    "        \n"
   ]
  }
 ],
 "metadata": {
  "kernelspec": {
   "display_name": "Python 3",
   "language": "python",
   "name": "python3"
  },
  "language_info": {
   "codemirror_mode": {
    "name": "ipython",
    "version": 3
   },
   "file_extension": ".py",
   "mimetype": "text/x-python",
   "name": "python",
   "nbconvert_exporter": "python",
   "pygments_lexer": "ipython3",
   "version": "3.4.3"
  }
 },
 "nbformat": 4,
 "nbformat_minor": 0
}
